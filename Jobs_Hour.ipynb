{
 "cells": [
  {
   "cell_type": "markdown",
   "metadata": {},
   "source": [
    "# TIME ZONE CODE"
   ]
  },
  {
   "cell_type": "code",
   "execution_count": 2,
   "metadata": {},
   "outputs": [],
   "source": [
    "import requests\n",
    "from bs4 import BeautifulSoup\n",
    "import pandas as pd\n",
    "import re\n",
    "import numpy as np\n",
    "from selenium import webdriver"
   ]
  },
  {
   "cell_type": "markdown",
   "metadata": {},
   "source": [
    "## Airports Time scraping\n"
   ]
  },
  {
   "cell_type": "markdown",
   "metadata": {},
   "source": [
    "The data of the time zone registred for each city is obtained from the web Zeitverschiebung ('https://www.zeitverschiebung.net/'), where it could be calculated the time difference between departure and arrival cities."
   ]
  },
  {
   "cell_type": "markdown",
   "metadata": {},
   "source": [
    "First of all, we will get the airports time zone data from the API of Aviation Edge Database ('https://aviation-edge.com/')."
   ]
  },
  {
   "cell_type": "code",
   "execution_count": 18,
   "metadata": {},
   "outputs": [
    {
     "name": "stdout",
     "output_type": "stream",
     "text": [
      "https://aviation-edge.com/v2/public/cityDatabase?key=25034e-9edde7&codeIataCity=MAD\n"
     ]
    },
    {
     "data": {
      "text/plain": [
       "[{'GMT': '1',\n",
       "  'cityId': 4421,\n",
       "  'codeIataCity': 'MAD',\n",
       "  'codeIso2Country': 'ES',\n",
       "  'geonameId': 3117735,\n",
       "  'latitudeCity': 40.416691,\n",
       "  'longitudeCity': -3.700345,\n",
       "  'nameCity': 'Madrid',\n",
       "  'timezone': 'Europe/Madrid'}]"
      ]
     },
     "execution_count": 18,
     "metadata": {},
     "output_type": "execute_result"
    }
   ],
   "source": [
    "#API route\n",
    "aed_city = 'https://aviation-edge.com/v2/public/cityDatabase?key=25034e-9edde7&codeIataCity='\n",
    "#Flight to be requested (example)\n",
    "city_code = 'MAD'\n",
    "url = (f'{aed_city}{city_code}')\n",
    "print(url)\n",
    "html_city = requests.get(url).json()\n",
    "html_city"
   ]
  },
  {
   "cell_type": "code",
   "execution_count": 19,
   "metadata": {},
   "outputs": [
    {
     "data": {
      "text/plain": [
       "{'GMT': '1',\n",
       " 'cityId': 4421,\n",
       " 'codeIataCity': 'MAD',\n",
       " 'codeIso2Country': 'ES',\n",
       " 'geonameId': 3117735,\n",
       " 'latitudeCity': 40.416691,\n",
       " 'longitudeCity': -3.700345,\n",
       " 'nameCity': 'Madrid',\n",
       " 'timezone': 'Europe/Madrid'}"
      ]
     },
     "execution_count": 19,
     "metadata": {},
     "output_type": "execute_result"
    }
   ],
   "source": [
    "html_city_dic = html_city[0]\n",
    "html_city_dic"
   ]
  },
  {
   "cell_type": "code",
   "execution_count": 28,
   "metadata": {},
   "outputs": [
    {
     "data": {
      "text/html": [
       "<div>\n",
       "<style scoped>\n",
       "    .dataframe tbody tr th:only-of-type {\n",
       "        vertical-align: middle;\n",
       "    }\n",
       "\n",
       "    .dataframe tbody tr th {\n",
       "        vertical-align: top;\n",
       "    }\n",
       "\n",
       "    .dataframe thead th {\n",
       "        text-align: right;\n",
       "    }\n",
       "</style>\n",
       "<table border=\"1\" class=\"dataframe\">\n",
       "  <thead>\n",
       "    <tr style=\"text-align: right;\">\n",
       "      <th></th>\n",
       "      <th>GMT</th>\n",
       "      <th>cityId</th>\n",
       "      <th>codeIataCity</th>\n",
       "      <th>codeIso2Country</th>\n",
       "      <th>geonameId</th>\n",
       "      <th>latitudeCity</th>\n",
       "      <th>longitudeCity</th>\n",
       "      <th>nameCity</th>\n",
       "      <th>timezone</th>\n",
       "    </tr>\n",
       "  </thead>\n",
       "  <tbody>\n",
       "    <tr>\n",
       "      <th>0</th>\n",
       "      <td>1</td>\n",
       "      <td>4421</td>\n",
       "      <td>MAD</td>\n",
       "      <td>ES</td>\n",
       "      <td>3117735</td>\n",
       "      <td>40.416691</td>\n",
       "      <td>-3.700345</td>\n",
       "      <td>Madrid</td>\n",
       "      <td>Europe/Madrid</td>\n",
       "    </tr>\n",
       "  </tbody>\n",
       "</table>\n",
       "</div>"
      ],
      "text/plain": [
       "  GMT  cityId codeIataCity codeIso2Country  geonameId  latitudeCity  \\\n",
       "0   1    4421          MAD              ES    3117735     40.416691   \n",
       "\n",
       "   longitudeCity nameCity       timezone  \n",
       "0      -3.700345   Madrid  Europe/Madrid  "
      ]
     },
     "execution_count": 28,
     "metadata": {},
     "output_type": "execute_result"
    }
   ],
   "source": [
    "city_df = pd.DataFrame(html_city_dic, index=[0])\n",
    "city_df"
   ]
  },
  {
   "cell_type": "code",
   "execution_count": 35,
   "metadata": {},
   "outputs": [
    {
     "name": "stdout",
     "output_type": "stream",
     "text": [
      "Europe/Madrid\n"
     ]
    }
   ],
   "source": [
    "timezone = city_df.loc[0,'timezone']\n",
    "print(timezone)"
   ]
  },
  {
   "cell_type": "markdown",
   "metadata": {},
   "source": [
    "Afterwards, we need to do web scraping in Zeitverschiebung to get the time difference between cities."
   ]
  },
  {
   "cell_type": "code",
   "execution_count": 29,
   "metadata": {},
   "outputs": [
    {
     "data": {
      "text/plain": [
       "'/home/viki/miniconda3/envs/ironhack_env/bin:/home/viki/miniconda3/condabin:/home/viki/.local/bin:/usr/local/sbin:/usr/local/bin:/usr/sbin:/usr/bin:/sbin:/bin:/usr/games:/usr/local/games:/snap/bin:/home/viki/Bootcamp/Destiny-tips-tool/drivers'"
      ]
     },
     "execution_count": 29,
     "metadata": {},
     "output_type": "execute_result"
    }
   ],
   "source": [
    "import os\n",
    "\n",
    "os.environ['PATH'] = f'{os.environ[\"PATH\"]}:{os.getcwd()}/drivers'\n",
    "    \n",
    "os.environ['PATH']"
   ]
  },
  {
   "cell_type": "code",
   "execution_count": 30,
   "metadata": {},
   "outputs": [],
   "source": [
    "driver = webdriver.Chrome('/home/viki/Bootcamp/drivers/chromedriver')\n",
    "driver.get('https://www.weatherwx.com/forecast.php?config=&forecast=pass&pass=tafINT')"
   ]
  },
  {
   "cell_type": "markdown",
   "metadata": {},
   "source": [
    "For the scraping of this web, selenium is used as this is easier to program all the process."
   ]
  },
  {
   "cell_type": "code",
   "execution_count": 111,
   "metadata": {},
   "outputs": [
    {
     "data": {
      "text/plain": [
       "'/home/viki/miniconda3/envs/ironhack_env/bin:/home/viki/miniconda3/condabin:/home/viki/.local/bin:/usr/local/sbin:/usr/local/bin:/usr/sbin:/usr/bin:/sbin:/bin:/usr/games:/usr/local/games:/snap/bin:/home/viki/Bootcamp/Destiny-tips-tool/drivers:/home/viki/Bootcamp/Destiny-tips-tool/drivers:/home/viki/Bootcamp/Destiny-tips-tool/drivers:/home/viki/Bootcamp/Destiny-tips-tool/drivers'"
      ]
     },
     "execution_count": 111,
     "metadata": {},
     "output_type": "execute_result"
    }
   ],
   "source": [
    "import os\n",
    "\n",
    "os.environ['PATH'] = f'{os.environ[\"PATH\"]}:{os.getcwd()}/drivers'\n",
    "    \n",
    "os.environ['PATH']"
   ]
  },
  {
   "cell_type": "code",
   "execution_count": 32,
   "metadata": {},
   "outputs": [],
   "source": [
    "driver = webdriver.Chrome('/home/viki/Bootcamp/drivers/chromedriver')\n",
    "driver.get('https://www.zeitverschiebung.net/es/')"
   ]
  },
  {
   "cell_type": "code",
   "execution_count": 33,
   "metadata": {},
   "outputs": [],
   "source": [
    "#Click cookies button\n",
    "cookies_button = driver.find_element_by_class_name(\"css-flk0bs\")\n",
    "driver.execute_script(\"arguments[0].click();\", cookies_button)\n"
   ]
  },
  {
   "cell_type": "code",
   "execution_count": 114,
   "metadata": {},
   "outputs": [],
   "source": [
    "#Introduce departure time zone in first place\n",
    "driver.find_element_by_xpath(\"//select[@name='Country']/option[text()='Spain']\").click()"
   ]
  },
  {
   "cell_type": "code",
   "execution_count": 115,
   "metadata": {},
   "outputs": [],
   "source": [
    "#Choose from Place select drop-down\n",
    "driver.find_element_by_xpath(\"//select[@name='Places']/option[text()='Madrid / Barajas']\").click()"
   ]
  },
  {
   "cell_type": "code",
   "execution_count": 116,
   "metadata": {},
   "outputs": [],
   "source": [
    "#Click display forecast button\n",
    "display_button = driver.find_element_by_class_name(\"btn.btn-default.btn-sm\")\n",
    "\n",
    "display_button.click()"
   ]
  },
  {
   "cell_type": "code",
   "execution_count": 117,
   "metadata": {},
   "outputs": [
    {
     "name": "stdout",
     "output_type": "stream",
     "text": [
      "['Overcast Monday, temperatures as high as 19°C, low temperature around 10°C, wind out of the ESE 12 km/h. Barometric pressure 1017 mb, visibility 10 km, humidity 44%.', 'Patchy rain possible Tuesday, temperatures as high as 19°C, low temperature around 11°C, probability of precipitation 84%, wind out of the ESE 10 km/h. Barometric pressure 1013 mb', 'Patchy rain possible Wednesday, temperatures as high as 20°C, low temperature around 10°C, probability of precipitation 87%, wind out of the SSE 12 km/h. Barometric pressure 1012 mb', 'Patchy rain possible Thursday, temperatures as high as 20°C, low temperature around 12°C, probability of precipitation 80%, wind out of the S 10 km/h. Barometric pressure 1014 mb', 'Patchy rain possible Friday, temperatures as high as 16°C, low temperature around 12°C, probability of precipitation 84%, wind out of the S 18 km/h. Barometric pressure 1016 mb', 'Moderate rain Saturday, temperatures as high as 17°C, low temperature around 12°C, probability of precipitation 76%, wind out of the ESE 16 km/h. Barometric pressure 1016 mb', 'Patchy rain possible Sunday, temperatures as high as 18°C, low temperature around 11°C, probability of precipitation 89%, wind out of the SSE 11 km/h. Barometric pressure 1015 mb']\n"
     ]
    }
   ],
   "source": [
    "#Get the information of the weather in 7 days, and introduce it in a list\n",
    "table = driver.find_element_by_class_name('panel.panel-primary.article')\n",
    "\n",
    "rows = table.find_elements_by_tag_name('table')\n",
    "\n",
    "weather_raw = []\n",
    "for row in rows:\n",
    "    cells = row.find_elements_by_tag_name('td')\n",
    "    weather_raw.append(cells[1].text)\n",
    "\n",
    "print(weather_raw)"
   ]
  },
  {
   "cell_type": "code",
   "execution_count": 118,
   "metadata": {},
   "outputs": [
    {
     "name": "stdout",
     "output_type": "stream",
     "text": [
      "[['Overcast Monday, temperatures as high as 19°C, low temperature around 10°C, wind out of the ESE 12 km/h. Barometric pressure 1017 mb, visibility 10 km, humidity 44%.'], ['Patchy rain possible Tuesday, temperatures as high as 19°C, low temperature around 11°C, probability of precipitation 84%, wind out of the ESE 10 km/h. Barometric pressure 1013 mb'], ['Patchy rain possible Wednesday, temperatures as high as 20°C, low temperature around 10°C, probability of precipitation 87%, wind out of the SSE 12 km/h. Barometric pressure 1012 mb'], ['Patchy rain possible Thursday, temperatures as high as 20°C, low temperature around 12°C, probability of precipitation 80%, wind out of the S 10 km/h. Barometric pressure 1014 mb'], ['Patchy rain possible Friday, temperatures as high as 16°C, low temperature around 12°C, probability of precipitation 84%, wind out of the S 18 km/h. Barometric pressure 1016 mb'], ['Moderate rain Saturday, temperatures as high as 17°C, low temperature around 12°C, probability of precipitation 76%, wind out of the ESE 16 km/h. Barometric pressure 1016 mb'], ['Patchy rain possible Sunday, temperatures as high as 18°C, low temperature around 11°C, probability of precipitation 89%, wind out of the SSE 11 km/h. Barometric pressure 1015 mb']]\n"
     ]
    }
   ],
   "source": [
    "#Divide the list in a list of list, by days\n",
    "weather_raw_list = [[x] for x in weather_raw]\n",
    "print(weather_raw_list)"
   ]
  },
  {
   "cell_type": "code",
   "execution_count": 119,
   "metadata": {},
   "outputs": [
    {
     "name": "stdout",
     "output_type": "stream",
     "text": [
      "[['Overcast Monday', ' temperatures as high as 19°C', ' low temperature around 10°C', ' wind out of the ESE 12 km/h', ' Barometric pressure 1017 mb', ' visibility 10 km', ' humidity 44%', ''], ['Patchy rain possible Tuesday', ' temperatures as high as 19°C', ' low temperature around 11°C', ' probability of precipitation 84%', ' wind out of the ESE 10 km/h', ' Barometric pressure 1013 mb'], ['Patchy rain possible Wednesday', ' temperatures as high as 20°C', ' low temperature around 10°C', ' probability of precipitation 87%', ' wind out of the SSE 12 km/h', ' Barometric pressure 1012 mb'], ['Patchy rain possible Thursday', ' temperatures as high as 20°C', ' low temperature around 12°C', ' probability of precipitation 80%', ' wind out of the S 10 km/h', ' Barometric pressure 1014 mb'], ['Patchy rain possible Friday', ' temperatures as high as 16°C', ' low temperature around 12°C', ' probability of precipitation 84%', ' wind out of the S 18 km/h', ' Barometric pressure 1016 mb'], ['Moderate rain Saturday', ' temperatures as high as 17°C', ' low temperature around 12°C', ' probability of precipitation 76%', ' wind out of the ESE 16 km/h', ' Barometric pressure 1016 mb'], ['Patchy rain possible Sunday', ' temperatures as high as 18°C', ' low temperature around 11°C', ' probability of precipitation 89%', ' wind out of the SSE 11 km/h', ' Barometric pressure 1015 mb']]\n"
     ]
    }
   ],
   "source": [
    "#Divide each sublist by the different weather features\n",
    "weather_raw_divided = [re.split('[,.]', y) for x in weather_raw_list for y in x]\n",
    "print(weather_raw_divided)"
   ]
  },
  {
   "cell_type": "code",
   "execution_count": 120,
   "metadata": {},
   "outputs": [],
   "source": [
    "'''\n",
    "Function to order the data as we need and fill the empty data with 0. \n",
    "This will help when the data will be introduce in a dataset \n",
    "The data will be ordered as follows:\n",
    "1 - Forecast\n",
    "2 - High temperature\n",
    "3 - Low temperature\n",
    "4 - Probability of precipitation\n",
    "5 - Wind\n",
    "6 - Barometric pressure\n",
    "\n",
    "\n",
    "\n",
    "'''\n",
    "\n",
    "def reorder_func(day_weather_list):\n",
    "    reordered_weather = [day_weather_list[0], day_weather_list[1], day_weather_list[2]]\n",
    "    for i in range(2, len(day_weather_list)):\n",
    "        if 'precipitation' in day_weather_list[i]:\n",
    "            reordered_weather.append(day_weather_list[i])\n",
    "    if len(reordered_weather)< 4:\n",
    "        reordered_weather.append('0')\n",
    "\n",
    "    for i in range(2, len(day_weather_list)):\n",
    "        if 'wind' in day_weather_list[i]:\n",
    "            reordered_weather.append(day_weather_list[i])\n",
    "    if len(reordered_weather)< 5:\n",
    "        reordered_weather.append('0')\n",
    "\n",
    "    for i in range(2, len(day_weather_list)):\n",
    "        if 'pressure' in day_weather_list[i]:\n",
    "            reordered_weather.append(day_weather_list[i])\n",
    "    if len(reordered_weather)< 6:\n",
    "        reordered_weather.append('0')\n",
    "\n",
    "    return reordered_weather"
   ]
  },
  {
   "cell_type": "code",
   "execution_count": 121,
   "metadata": {},
   "outputs": [
    {
     "name": "stdout",
     "output_type": "stream",
     "text": [
      "[['Overcast Monday', ' temperatures as high as 19°C', ' low temperature around 10°C', '0', ' wind out of the ESE 12 km/h', ' Barometric pressure 1017 mb'], ['Patchy rain possible Tuesday', ' temperatures as high as 19°C', ' low temperature around 11°C', ' probability of precipitation 84%', ' wind out of the ESE 10 km/h', ' Barometric pressure 1013 mb'], ['Patchy rain possible Wednesday', ' temperatures as high as 20°C', ' low temperature around 10°C', ' probability of precipitation 87%', ' wind out of the SSE 12 km/h', ' Barometric pressure 1012 mb'], ['Patchy rain possible Thursday', ' temperatures as high as 20°C', ' low temperature around 12°C', ' probability of precipitation 80%', ' wind out of the S 10 km/h', ' Barometric pressure 1014 mb'], ['Patchy rain possible Friday', ' temperatures as high as 16°C', ' low temperature around 12°C', ' probability of precipitation 84%', ' wind out of the S 18 km/h', ' Barometric pressure 1016 mb'], ['Moderate rain Saturday', ' temperatures as high as 17°C', ' low temperature around 12°C', ' probability of precipitation 76%', ' wind out of the ESE 16 km/h', ' Barometric pressure 1016 mb'], ['Patchy rain possible Sunday', ' temperatures as high as 18°C', ' low temperature around 11°C', ' probability of precipitation 89%', ' wind out of the SSE 11 km/h', ' Barometric pressure 1015 mb']]\n"
     ]
    }
   ],
   "source": [
    "ordered_weather =[]\n",
    "for x in weather_raw_divided:\n",
    "    sublist = reorder_func(x)\n",
    "    ordered_weather.append(sublist)\n",
    "print(ordered_weather)"
   ]
  },
  {
   "cell_type": "code",
   "execution_count": 134,
   "metadata": {},
   "outputs": [
    {
     "data": {
      "text/html": [
       "<div>\n",
       "<style scoped>\n",
       "    .dataframe tbody tr th:only-of-type {\n",
       "        vertical-align: middle;\n",
       "    }\n",
       "\n",
       "    .dataframe tbody tr th {\n",
       "        vertical-align: top;\n",
       "    }\n",
       "\n",
       "    .dataframe thead th {\n",
       "        text-align: right;\n",
       "    }\n",
       "</style>\n",
       "<table border=\"1\" class=\"dataframe\">\n",
       "  <thead>\n",
       "    <tr style=\"text-align: right;\">\n",
       "      <th></th>\n",
       "      <th>Forecast</th>\n",
       "      <th>High temperature (ºC)</th>\n",
       "      <th>Low temperature (ºC)</th>\n",
       "      <th>Probability of precipitation (%)</th>\n",
       "      <th>Wind</th>\n",
       "      <th>Barometric pressure (mb)</th>\n",
       "    </tr>\n",
       "  </thead>\n",
       "  <tbody>\n",
       "    <tr>\n",
       "      <th>0</th>\n",
       "      <td>Overcast Monday</td>\n",
       "      <td>temperatures as high as 19°C</td>\n",
       "      <td>low temperature around 10°C</td>\n",
       "      <td>0</td>\n",
       "      <td>wind out of the ESE 12 km/h</td>\n",
       "      <td>Barometric pressure 1017 mb</td>\n",
       "    </tr>\n",
       "    <tr>\n",
       "      <th>1</th>\n",
       "      <td>Patchy rain possible Tuesday</td>\n",
       "      <td>temperatures as high as 19°C</td>\n",
       "      <td>low temperature around 11°C</td>\n",
       "      <td>probability of precipitation 84%</td>\n",
       "      <td>wind out of the ESE 10 km/h</td>\n",
       "      <td>Barometric pressure 1013 mb</td>\n",
       "    </tr>\n",
       "    <tr>\n",
       "      <th>2</th>\n",
       "      <td>Patchy rain possible Wednesday</td>\n",
       "      <td>temperatures as high as 20°C</td>\n",
       "      <td>low temperature around 10°C</td>\n",
       "      <td>probability of precipitation 87%</td>\n",
       "      <td>wind out of the SSE 12 km/h</td>\n",
       "      <td>Barometric pressure 1012 mb</td>\n",
       "    </tr>\n",
       "    <tr>\n",
       "      <th>3</th>\n",
       "      <td>Patchy rain possible Thursday</td>\n",
       "      <td>temperatures as high as 20°C</td>\n",
       "      <td>low temperature around 12°C</td>\n",
       "      <td>probability of precipitation 80%</td>\n",
       "      <td>wind out of the S 10 km/h</td>\n",
       "      <td>Barometric pressure 1014 mb</td>\n",
       "    </tr>\n",
       "    <tr>\n",
       "      <th>4</th>\n",
       "      <td>Patchy rain possible Friday</td>\n",
       "      <td>temperatures as high as 16°C</td>\n",
       "      <td>low temperature around 12°C</td>\n",
       "      <td>probability of precipitation 84%</td>\n",
       "      <td>wind out of the S 18 km/h</td>\n",
       "      <td>Barometric pressure 1016 mb</td>\n",
       "    </tr>\n",
       "    <tr>\n",
       "      <th>5</th>\n",
       "      <td>Moderate rain Saturday</td>\n",
       "      <td>temperatures as high as 17°C</td>\n",
       "      <td>low temperature around 12°C</td>\n",
       "      <td>probability of precipitation 76%</td>\n",
       "      <td>wind out of the ESE 16 km/h</td>\n",
       "      <td>Barometric pressure 1016 mb</td>\n",
       "    </tr>\n",
       "    <tr>\n",
       "      <th>6</th>\n",
       "      <td>Patchy rain possible Sunday</td>\n",
       "      <td>temperatures as high as 18°C</td>\n",
       "      <td>low temperature around 11°C</td>\n",
       "      <td>probability of precipitation 89%</td>\n",
       "      <td>wind out of the SSE 11 km/h</td>\n",
       "      <td>Barometric pressure 1015 mb</td>\n",
       "    </tr>\n",
       "  </tbody>\n",
       "</table>\n",
       "</div>"
      ],
      "text/plain": [
       "                         Forecast          High temperature (ºC)  \\\n",
       "0                 Overcast Monday   temperatures as high as 19°C   \n",
       "1    Patchy rain possible Tuesday   temperatures as high as 19°C   \n",
       "2  Patchy rain possible Wednesday   temperatures as high as 20°C   \n",
       "3   Patchy rain possible Thursday   temperatures as high as 20°C   \n",
       "4     Patchy rain possible Friday   temperatures as high as 16°C   \n",
       "5          Moderate rain Saturday   temperatures as high as 17°C   \n",
       "6     Patchy rain possible Sunday   temperatures as high as 18°C   \n",
       "\n",
       "           Low temperature (ºC)   Probability of precipitation (%)  \\\n",
       "0   low temperature around 10°C                                  0   \n",
       "1   low temperature around 11°C   probability of precipitation 84%   \n",
       "2   low temperature around 10°C   probability of precipitation 87%   \n",
       "3   low temperature around 12°C   probability of precipitation 80%   \n",
       "4   low temperature around 12°C   probability of precipitation 84%   \n",
       "5   low temperature around 12°C   probability of precipitation 76%   \n",
       "6   low temperature around 11°C   probability of precipitation 89%   \n",
       "\n",
       "                           Wind      Barometric pressure (mb)  \n",
       "0   wind out of the ESE 12 km/h   Barometric pressure 1017 mb  \n",
       "1   wind out of the ESE 10 km/h   Barometric pressure 1013 mb  \n",
       "2   wind out of the SSE 12 km/h   Barometric pressure 1012 mb  \n",
       "3     wind out of the S 10 km/h   Barometric pressure 1014 mb  \n",
       "4     wind out of the S 18 km/h   Barometric pressure 1016 mb  \n",
       "5   wind out of the ESE 16 km/h   Barometric pressure 1016 mb  \n",
       "6   wind out of the SSE 11 km/h   Barometric pressure 1015 mb  "
      ]
     },
     "metadata": {},
     "output_type": "display_data"
    }
   ],
   "source": [
    "#Introduce all the data in a dataset\n",
    "cols = ['Forecast', 'High temperature (ºC)', 'Low temperature (ºC)', \n",
    "        'Probability of precipitation (%)', 'Wind', 'Barometric pressure (mb)']\n",
    "weather_df = pd.DataFrame(ordered_weather, columns = cols)\n",
    "display(weather_df)"
   ]
  },
  {
   "cell_type": "code",
   "execution_count": 135,
   "metadata": {},
   "outputs": [],
   "source": [
    "#Clean the data in Forecast\n",
    "def not_day(text):\n",
    "    short_text = ' '.join(text.split(' ')[:-1])\n",
    "    return short_text\n",
    "weather_df['Forecast'] = weather_df['Forecast'].apply(not_day)"
   ]
  },
  {
   "cell_type": "code",
   "execution_count": 136,
   "metadata": {},
   "outputs": [
    {
     "data": {
      "text/html": [
       "<div>\n",
       "<style scoped>\n",
       "    .dataframe tbody tr th:only-of-type {\n",
       "        vertical-align: middle;\n",
       "    }\n",
       "\n",
       "    .dataframe tbody tr th {\n",
       "        vertical-align: top;\n",
       "    }\n",
       "\n",
       "    .dataframe thead th {\n",
       "        text-align: right;\n",
       "    }\n",
       "</style>\n",
       "<table border=\"1\" class=\"dataframe\">\n",
       "  <thead>\n",
       "    <tr style=\"text-align: right;\">\n",
       "      <th></th>\n",
       "      <th>Forecast</th>\n",
       "      <th>High temperature (ºC)</th>\n",
       "      <th>Low temperature (ºC)</th>\n",
       "      <th>Probability of precipitation (%)</th>\n",
       "      <th>Wind</th>\n",
       "      <th>Barometric pressure (mb)</th>\n",
       "    </tr>\n",
       "  </thead>\n",
       "  <tbody>\n",
       "    <tr>\n",
       "      <th>0</th>\n",
       "      <td>Overcast</td>\n",
       "      <td>19</td>\n",
       "      <td>10</td>\n",
       "      <td>0</td>\n",
       "      <td>wind out of the ESE 12 km/h</td>\n",
       "      <td>1017</td>\n",
       "    </tr>\n",
       "    <tr>\n",
       "      <th>1</th>\n",
       "      <td>Patchy rain possible</td>\n",
       "      <td>19</td>\n",
       "      <td>11</td>\n",
       "      <td>84</td>\n",
       "      <td>wind out of the ESE 10 km/h</td>\n",
       "      <td>1013</td>\n",
       "    </tr>\n",
       "    <tr>\n",
       "      <th>2</th>\n",
       "      <td>Patchy rain possible</td>\n",
       "      <td>20</td>\n",
       "      <td>10</td>\n",
       "      <td>87</td>\n",
       "      <td>wind out of the SSE 12 km/h</td>\n",
       "      <td>1012</td>\n",
       "    </tr>\n",
       "    <tr>\n",
       "      <th>3</th>\n",
       "      <td>Patchy rain possible</td>\n",
       "      <td>20</td>\n",
       "      <td>12</td>\n",
       "      <td>80</td>\n",
       "      <td>wind out of the S 10 km/h</td>\n",
       "      <td>1014</td>\n",
       "    </tr>\n",
       "    <tr>\n",
       "      <th>4</th>\n",
       "      <td>Patchy rain possible</td>\n",
       "      <td>16</td>\n",
       "      <td>12</td>\n",
       "      <td>84</td>\n",
       "      <td>wind out of the S 18 km/h</td>\n",
       "      <td>1016</td>\n",
       "    </tr>\n",
       "    <tr>\n",
       "      <th>5</th>\n",
       "      <td>Moderate rain</td>\n",
       "      <td>17</td>\n",
       "      <td>12</td>\n",
       "      <td>76</td>\n",
       "      <td>wind out of the ESE 16 km/h</td>\n",
       "      <td>1016</td>\n",
       "    </tr>\n",
       "    <tr>\n",
       "      <th>6</th>\n",
       "      <td>Patchy rain possible</td>\n",
       "      <td>18</td>\n",
       "      <td>11</td>\n",
       "      <td>89</td>\n",
       "      <td>wind out of the SSE 11 km/h</td>\n",
       "      <td>1015</td>\n",
       "    </tr>\n",
       "  </tbody>\n",
       "</table>\n",
       "</div>"
      ],
      "text/plain": [
       "               Forecast High temperature (ºC) Low temperature (ºC)  \\\n",
       "0              Overcast                    19                   10   \n",
       "1  Patchy rain possible                    19                   11   \n",
       "2  Patchy rain possible                    20                   10   \n",
       "3  Patchy rain possible                    20                   12   \n",
       "4  Patchy rain possible                    16                   12   \n",
       "5         Moderate rain                    17                   12   \n",
       "6  Patchy rain possible                    18                   11   \n",
       "\n",
       "  Probability of precipitation (%)                          Wind  \\\n",
       "0                                0   wind out of the ESE 12 km/h   \n",
       "1                               84   wind out of the ESE 10 km/h   \n",
       "2                               87   wind out of the SSE 12 km/h   \n",
       "3                               80     wind out of the S 10 km/h   \n",
       "4                               84     wind out of the S 18 km/h   \n",
       "5                               76   wind out of the ESE 16 km/h   \n",
       "6                               89   wind out of the SSE 11 km/h   \n",
       "\n",
       "  Barometric pressure (mb)  \n",
       "0                     1017  \n",
       "1                     1013  \n",
       "2                     1012  \n",
       "3                     1014  \n",
       "4                     1016  \n",
       "5                     1016  \n",
       "6                     1015  "
      ]
     },
     "metadata": {},
     "output_type": "display_data"
    }
   ],
   "source": [
    "#Clean High temperature, Low temperature, Probability of precipitation and Barometric pressure\n",
    "#Keeping only numbers\n",
    "def only_num(text):\n",
    "    result = (re.findall('\\d+', text))\n",
    "    return ''.join(result)\n",
    "\n",
    "weather_df['High temperature (ºC)'] = weather_df['High temperature (ºC)'].apply(only_num)\n",
    "weather_df['Low temperature (ºC)'] = weather_df['Low temperature (ºC)'].apply(only_num)\n",
    "weather_df['Probability of precipitation (%)'] = weather_df['Probability of precipitation (%)'].apply(only_num)\n",
    "weather_df['Barometric pressure (mb)'] = weather_df['Barometric pressure (mb)'].apply(only_num)\n",
    "display(weather_df)"
   ]
  }
 ],
 "metadata": {
  "kernelspec": {
   "display_name": "Python [conda env:ironhack_env]",
   "language": "python",
   "name": "conda-env-ironhack_env-py"
  },
  "language_info": {
   "codemirror_mode": {
    "name": "ipython",
    "version": 3
   },
   "file_extension": ".py",
   "mimetype": "text/x-python",
   "name": "python",
   "nbconvert_exporter": "python",
   "pygments_lexer": "ipython3",
   "version": "3.8.5"
  }
 },
 "nbformat": 4,
 "nbformat_minor": 4
}
