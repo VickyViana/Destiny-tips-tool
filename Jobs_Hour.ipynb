{
 "cells": [
  {
   "cell_type": "markdown",
   "metadata": {},
   "source": [
    "# TIME ZONE CODE"
   ]
  },
  {
   "cell_type": "code",
   "execution_count": 386,
   "metadata": {},
   "outputs": [],
   "source": [
    "import requests\n",
    "from bs4 import BeautifulSoup\n",
    "import pandas as pd\n",
    "import re\n",
    "import numpy as np\n",
    "from selenium import webdriver\n",
    "from selenium.webdriver.common.keys import Keys\n",
    "from selenium.webdriver.common.by import By\n",
    "from selenium.webdriver.support.ui import WebDriverWait\n",
    "from selenium.webdriver.support import expected_conditions as EC"
   ]
  },
  {
   "cell_type": "markdown",
   "metadata": {},
   "source": [
    "## Airports Time scraping\n"
   ]
  },
  {
   "cell_type": "markdown",
   "metadata": {},
   "source": [
    "The data of the time zone registred for each city is obtained from the web Zeitverschiebung ('https://www.zeitverschiebung.net/'), where it could be calculated the time difference between departure and arrival cities."
   ]
  },
  {
   "cell_type": "markdown",
   "metadata": {},
   "source": [
    "First of all, we will get the airports time zone data from the API of Aviation Edge Database ('https://aviation-edge.com/')."
   ]
  },
  {
   "cell_type": "code",
   "execution_count": 387,
   "metadata": {},
   "outputs": [
    {
     "name": "stdout",
     "output_type": "stream",
     "text": [
      "https://aviation-edge.com/v2/public/cityDatabase?key=25034e-9edde7&codeIataCity=MAD\n"
     ]
    },
    {
     "data": {
      "text/plain": [
       "[{'GMT': '1',\n",
       "  'cityId': 4421,\n",
       "  'codeIataCity': 'MAD',\n",
       "  'codeIso2Country': 'ES',\n",
       "  'geonameId': 3117735,\n",
       "  'latitudeCity': 40.416691,\n",
       "  'longitudeCity': -3.700345,\n",
       "  'nameCity': 'Madrid',\n",
       "  'timezone': 'Europe/Madrid'}]"
      ]
     },
     "execution_count": 387,
     "metadata": {},
     "output_type": "execute_result"
    }
   ],
   "source": [
    "#API route\n",
    "aed_city = 'https://aviation-edge.com/v2/public/cityDatabase?key=25034e-9edde7&codeIataCity='\n",
    "#Flight to be requested (example)\n",
    "city_code = 'MAD'\n",
    "url = (f'{aed_city}{city_code}')\n",
    "print(url)\n",
    "html_city = requests.get(url).json()\n",
    "html_city"
   ]
  },
  {
   "cell_type": "code",
   "execution_count": 388,
   "metadata": {},
   "outputs": [
    {
     "data": {
      "text/plain": [
       "{'GMT': '1',\n",
       " 'cityId': 4421,\n",
       " 'codeIataCity': 'MAD',\n",
       " 'codeIso2Country': 'ES',\n",
       " 'geonameId': 3117735,\n",
       " 'latitudeCity': 40.416691,\n",
       " 'longitudeCity': -3.700345,\n",
       " 'nameCity': 'Madrid',\n",
       " 'timezone': 'Europe/Madrid'}"
      ]
     },
     "execution_count": 388,
     "metadata": {},
     "output_type": "execute_result"
    }
   ],
   "source": [
    "html_city_dic = html_city[0]\n",
    "html_city_dic"
   ]
  },
  {
   "cell_type": "code",
   "execution_count": 389,
   "metadata": {},
   "outputs": [
    {
     "data": {
      "text/html": [
       "<div>\n",
       "<style scoped>\n",
       "    .dataframe tbody tr th:only-of-type {\n",
       "        vertical-align: middle;\n",
       "    }\n",
       "\n",
       "    .dataframe tbody tr th {\n",
       "        vertical-align: top;\n",
       "    }\n",
       "\n",
       "    .dataframe thead th {\n",
       "        text-align: right;\n",
       "    }\n",
       "</style>\n",
       "<table border=\"1\" class=\"dataframe\">\n",
       "  <thead>\n",
       "    <tr style=\"text-align: right;\">\n",
       "      <th></th>\n",
       "      <th>GMT</th>\n",
       "      <th>cityId</th>\n",
       "      <th>codeIataCity</th>\n",
       "      <th>codeIso2Country</th>\n",
       "      <th>geonameId</th>\n",
       "      <th>latitudeCity</th>\n",
       "      <th>longitudeCity</th>\n",
       "      <th>nameCity</th>\n",
       "      <th>timezone</th>\n",
       "    </tr>\n",
       "  </thead>\n",
       "  <tbody>\n",
       "    <tr>\n",
       "      <th>0</th>\n",
       "      <td>1</td>\n",
       "      <td>4421</td>\n",
       "      <td>MAD</td>\n",
       "      <td>ES</td>\n",
       "      <td>3117735</td>\n",
       "      <td>40.416691</td>\n",
       "      <td>-3.700345</td>\n",
       "      <td>Madrid</td>\n",
       "      <td>Europe/Madrid</td>\n",
       "    </tr>\n",
       "  </tbody>\n",
       "</table>\n",
       "</div>"
      ],
      "text/plain": [
       "  GMT  cityId codeIataCity codeIso2Country  geonameId  latitudeCity  \\\n",
       "0   1    4421          MAD              ES    3117735     40.416691   \n",
       "\n",
       "   longitudeCity nameCity       timezone  \n",
       "0      -3.700345   Madrid  Europe/Madrid  "
      ]
     },
     "execution_count": 389,
     "metadata": {},
     "output_type": "execute_result"
    }
   ],
   "source": [
    "city_df = pd.DataFrame(html_city_dic, index=[0])\n",
    "city_df"
   ]
  },
  {
   "cell_type": "code",
   "execution_count": 390,
   "metadata": {},
   "outputs": [
    {
     "name": "stdout",
     "output_type": "stream",
     "text": [
      "Europe/Madrid\n"
     ]
    }
   ],
   "source": [
    "timezone = city_df.loc[0,'timezone']\n",
    "print(timezone)"
   ]
  },
  {
   "cell_type": "markdown",
   "metadata": {},
   "source": [
    "Afterwards, we need to do web scraping in Zeitverschiebung to get the time difference between cities."
   ]
  },
  {
   "cell_type": "markdown",
   "metadata": {},
   "source": [
    "import os\n",
    "\n",
    "os.environ['PATH'] = f'{os.environ[\"PATH\"]}:{os.getcwd()}/drivers'\n",
    "    \n",
    "os.environ['PATH']"
   ]
  },
  {
   "cell_type": "code",
   "execution_count": 391,
   "metadata": {},
   "outputs": [],
   "source": [
    "driver = webdriver.Chrome('/home/viki/Bootcamp/drivers/chromedriver')\n",
    "driver.get('https://www.zeitverschiebung.net/es/')"
   ]
  },
  {
   "cell_type": "code",
   "execution_count": 392,
   "metadata": {},
   "outputs": [],
   "source": [
    "#Click cookies button\n",
    "cookies_button = driver.find_element_by_class_name(\"css-flk0bs\")\n",
    "driver.execute_script(\"arguments[0].click();\", cookies_button)\n"
   ]
  },
  {
   "cell_type": "code",
   "execution_count": 393,
   "metadata": {
    "scrolled": true
   },
   "outputs": [
    {
     "ename": "ElementNotInteractableException",
     "evalue": "Message: element not interactable\n  (Session info: chrome=89.0.4389.114)\n",
     "output_type": "error",
     "traceback": [
      "\u001b[0;31m---------------------------------------------------------------------------\u001b[0m",
      "\u001b[0;31mElementNotInteractableException\u001b[0m           Traceback (most recent call last)",
      "\u001b[0;32m<ipython-input-393-0eb3b4823fa6>\u001b[0m in \u001b[0;36m<module>\u001b[0;34m\u001b[0m\n\u001b[1;32m      8\u001b[0m \u001b[0;31m#box = wait.until(EC.expected_conditions.element_to_be_clickable(departure_box))\u001b[0m\u001b[0;34m\u001b[0m\u001b[0;34m\u001b[0m\u001b[0;34m\u001b[0m\u001b[0m\n\u001b[1;32m      9\u001b[0m \u001b[0mel\u001b[0m \u001b[0;34m=\u001b[0m \u001b[0mWebDriverWait\u001b[0m\u001b[0;34m(\u001b[0m\u001b[0mdriver\u001b[0m\u001b[0;34m,\u001b[0m \u001b[0;36m30\u001b[0m\u001b[0;34m)\u001b[0m\u001b[0;34m.\u001b[0m\u001b[0muntil\u001b[0m\u001b[0;34m(\u001b[0m\u001b[0mEC\u001b[0m\u001b[0;34m.\u001b[0m\u001b[0mpresence_of_element_located\u001b[0m\u001b[0;34m(\u001b[0m\u001b[0;34m(\u001b[0m\u001b[0mBy\u001b[0m\u001b[0;34m.\u001b[0m\u001b[0mXPATH\u001b[0m\u001b[0;34m,\u001b[0m \u001b[0;34m\"//*[@class='form-control']\"\u001b[0m\u001b[0;34m)\u001b[0m\u001b[0;34m)\u001b[0m\u001b[0;34m)\u001b[0m\u001b[0;34m\u001b[0m\u001b[0;34m\u001b[0m\u001b[0m\n\u001b[0;32m---> 10\u001b[0;31m \u001b[0mel\u001b[0m\u001b[0;34m.\u001b[0m\u001b[0msend_keys\u001b[0m\u001b[0;34m(\u001b[0m\u001b[0;34mu'\\ue007'\u001b[0m\u001b[0;34m)\u001b[0m\u001b[0;34m\u001b[0m\u001b[0;34m\u001b[0m\u001b[0m\n\u001b[0m\u001b[1;32m     11\u001b[0m \u001b[0;31m#wait = WebDriverWait(driver, 10)\u001b[0m\u001b[0;34m\u001b[0m\u001b[0;34m\u001b[0m\u001b[0;34m\u001b[0m\u001b[0m\n\u001b[1;32m     12\u001b[0m \u001b[0;31m#box = wait.until(EC.element_to_be_clickable((By.ID, 'diff_first')))\u001b[0m\u001b[0;34m\u001b[0m\u001b[0;34m\u001b[0m\u001b[0;34m\u001b[0m\u001b[0m\n",
      "\u001b[0;32m~/miniconda3/envs/ironhack_env/lib/python3.8/site-packages/selenium/webdriver/remote/webelement.py\u001b[0m in \u001b[0;36msend_keys\u001b[0;34m(self, *value)\u001b[0m\n\u001b[1;32m    475\u001b[0m                 \u001b[0mvalue\u001b[0m \u001b[0;34m=\u001b[0m \u001b[0mself\u001b[0m\u001b[0;34m.\u001b[0m\u001b[0m_upload\u001b[0m\u001b[0;34m(\u001b[0m\u001b[0mlocal_file\u001b[0m\u001b[0;34m)\u001b[0m\u001b[0;34m\u001b[0m\u001b[0;34m\u001b[0m\u001b[0m\n\u001b[1;32m    476\u001b[0m \u001b[0;34m\u001b[0m\u001b[0m\n\u001b[0;32m--> 477\u001b[0;31m         self._execute(Command.SEND_KEYS_TO_ELEMENT,\n\u001b[0m\u001b[1;32m    478\u001b[0m                       {'text': \"\".join(keys_to_typing(value)),\n\u001b[1;32m    479\u001b[0m                        'value': keys_to_typing(value)})\n",
      "\u001b[0;32m~/miniconda3/envs/ironhack_env/lib/python3.8/site-packages/selenium/webdriver/remote/webelement.py\u001b[0m in \u001b[0;36m_execute\u001b[0;34m(self, command, params)\u001b[0m\n\u001b[1;32m    631\u001b[0m             \u001b[0mparams\u001b[0m \u001b[0;34m=\u001b[0m \u001b[0;34m{\u001b[0m\u001b[0;34m}\u001b[0m\u001b[0;34m\u001b[0m\u001b[0;34m\u001b[0m\u001b[0m\n\u001b[1;32m    632\u001b[0m         \u001b[0mparams\u001b[0m\u001b[0;34m[\u001b[0m\u001b[0;34m'id'\u001b[0m\u001b[0;34m]\u001b[0m \u001b[0;34m=\u001b[0m \u001b[0mself\u001b[0m\u001b[0;34m.\u001b[0m\u001b[0m_id\u001b[0m\u001b[0;34m\u001b[0m\u001b[0;34m\u001b[0m\u001b[0m\n\u001b[0;32m--> 633\u001b[0;31m         \u001b[0;32mreturn\u001b[0m \u001b[0mself\u001b[0m\u001b[0;34m.\u001b[0m\u001b[0m_parent\u001b[0m\u001b[0;34m.\u001b[0m\u001b[0mexecute\u001b[0m\u001b[0;34m(\u001b[0m\u001b[0mcommand\u001b[0m\u001b[0;34m,\u001b[0m \u001b[0mparams\u001b[0m\u001b[0;34m)\u001b[0m\u001b[0;34m\u001b[0m\u001b[0;34m\u001b[0m\u001b[0m\n\u001b[0m\u001b[1;32m    634\u001b[0m \u001b[0;34m\u001b[0m\u001b[0m\n\u001b[1;32m    635\u001b[0m     \u001b[0;32mdef\u001b[0m \u001b[0mfind_element\u001b[0m\u001b[0;34m(\u001b[0m\u001b[0mself\u001b[0m\u001b[0;34m,\u001b[0m \u001b[0mby\u001b[0m\u001b[0;34m=\u001b[0m\u001b[0mBy\u001b[0m\u001b[0;34m.\u001b[0m\u001b[0mID\u001b[0m\u001b[0;34m,\u001b[0m \u001b[0mvalue\u001b[0m\u001b[0;34m=\u001b[0m\u001b[0;32mNone\u001b[0m\u001b[0;34m)\u001b[0m\u001b[0;34m:\u001b[0m\u001b[0;34m\u001b[0m\u001b[0;34m\u001b[0m\u001b[0m\n",
      "\u001b[0;32m~/miniconda3/envs/ironhack_env/lib/python3.8/site-packages/selenium/webdriver/remote/webdriver.py\u001b[0m in \u001b[0;36mexecute\u001b[0;34m(self, driver_command, params)\u001b[0m\n\u001b[1;32m    319\u001b[0m         \u001b[0mresponse\u001b[0m \u001b[0;34m=\u001b[0m \u001b[0mself\u001b[0m\u001b[0;34m.\u001b[0m\u001b[0mcommand_executor\u001b[0m\u001b[0;34m.\u001b[0m\u001b[0mexecute\u001b[0m\u001b[0;34m(\u001b[0m\u001b[0mdriver_command\u001b[0m\u001b[0;34m,\u001b[0m \u001b[0mparams\u001b[0m\u001b[0;34m)\u001b[0m\u001b[0;34m\u001b[0m\u001b[0;34m\u001b[0m\u001b[0m\n\u001b[1;32m    320\u001b[0m         \u001b[0;32mif\u001b[0m \u001b[0mresponse\u001b[0m\u001b[0;34m:\u001b[0m\u001b[0;34m\u001b[0m\u001b[0;34m\u001b[0m\u001b[0m\n\u001b[0;32m--> 321\u001b[0;31m             \u001b[0mself\u001b[0m\u001b[0;34m.\u001b[0m\u001b[0merror_handler\u001b[0m\u001b[0;34m.\u001b[0m\u001b[0mcheck_response\u001b[0m\u001b[0;34m(\u001b[0m\u001b[0mresponse\u001b[0m\u001b[0;34m)\u001b[0m\u001b[0;34m\u001b[0m\u001b[0;34m\u001b[0m\u001b[0m\n\u001b[0m\u001b[1;32m    322\u001b[0m             response['value'] = self._unwrap_value(\n\u001b[1;32m    323\u001b[0m                 response.get('value', None))\n",
      "\u001b[0;32m~/miniconda3/envs/ironhack_env/lib/python3.8/site-packages/selenium/webdriver/remote/errorhandler.py\u001b[0m in \u001b[0;36mcheck_response\u001b[0;34m(self, response)\u001b[0m\n\u001b[1;32m    240\u001b[0m                 \u001b[0malert_text\u001b[0m \u001b[0;34m=\u001b[0m \u001b[0mvalue\u001b[0m\u001b[0;34m[\u001b[0m\u001b[0;34m'alert'\u001b[0m\u001b[0;34m]\u001b[0m\u001b[0;34m.\u001b[0m\u001b[0mget\u001b[0m\u001b[0;34m(\u001b[0m\u001b[0;34m'text'\u001b[0m\u001b[0;34m)\u001b[0m\u001b[0;34m\u001b[0m\u001b[0;34m\u001b[0m\u001b[0m\n\u001b[1;32m    241\u001b[0m             \u001b[0;32mraise\u001b[0m \u001b[0mexception_class\u001b[0m\u001b[0;34m(\u001b[0m\u001b[0mmessage\u001b[0m\u001b[0;34m,\u001b[0m \u001b[0mscreen\u001b[0m\u001b[0;34m,\u001b[0m \u001b[0mstacktrace\u001b[0m\u001b[0;34m,\u001b[0m \u001b[0malert_text\u001b[0m\u001b[0;34m)\u001b[0m\u001b[0;34m\u001b[0m\u001b[0;34m\u001b[0m\u001b[0m\n\u001b[0;32m--> 242\u001b[0;31m         \u001b[0;32mraise\u001b[0m \u001b[0mexception_class\u001b[0m\u001b[0;34m(\u001b[0m\u001b[0mmessage\u001b[0m\u001b[0;34m,\u001b[0m \u001b[0mscreen\u001b[0m\u001b[0;34m,\u001b[0m \u001b[0mstacktrace\u001b[0m\u001b[0;34m)\u001b[0m\u001b[0;34m\u001b[0m\u001b[0;34m\u001b[0m\u001b[0m\n\u001b[0m\u001b[1;32m    243\u001b[0m \u001b[0;34m\u001b[0m\u001b[0m\n\u001b[1;32m    244\u001b[0m     \u001b[0;32mdef\u001b[0m \u001b[0m_value_or_default\u001b[0m\u001b[0;34m(\u001b[0m\u001b[0mself\u001b[0m\u001b[0;34m,\u001b[0m \u001b[0mobj\u001b[0m\u001b[0;34m,\u001b[0m \u001b[0mkey\u001b[0m\u001b[0;34m,\u001b[0m \u001b[0mdefault\u001b[0m\u001b[0;34m)\u001b[0m\u001b[0;34m:\u001b[0m\u001b[0;34m\u001b[0m\u001b[0;34m\u001b[0m\u001b[0m\n",
      "\u001b[0;31mElementNotInteractableException\u001b[0m: Message: element not interactable\n  (Session info: chrome=89.0.4389.114)\n"
     ]
    }
   ],
   "source": [
    "departure_timezone = 'Europe/Madrid'\n",
    "arrival_timezone = 'America/Anchorage'\n",
    "\n",
    "#Introduce departure time zone for the search\n",
    "departure_box = driver.find_element_by_id('diff_first')\n",
    "departure_box.send_keys(departure_timezone)\n",
    "wait = WebDriverWait(driver, 10)\n",
    "#box = wait.until(EC.expected_conditions.element_to_be_clickable(departure_box))\n",
    "el = WebDriverWait(driver, 30).until(EC.presence_of_element_located((By.XPATH, \"//*[@class='form-control']\")))\n",
    "el.send_keys(u'\\ue007')\n",
    "#wait = WebDriverWait(driver, 10)\n",
    "#box = wait.until(EC.element_to_be_clickable((By.ID, 'diff_first')))\n",
    "#departure_box.send_keys(Keys.ARROW_DOWN)\n",
    "#box.send_keys(u'\\ue007')\n"
   ]
  },
  {
   "cell_type": "code",
   "execution_count": null,
   "metadata": {},
   "outputs": [],
   "source": [
    "#Introduce arrival time zone for the search                                \n",
    "arrival_box = driver.find_element_by_id('diff_second')\n",
    "arrival_box.send_keys(arrival_timezone)\n",
    "\n",
    "departure_box.send_keys(Keys.ARROW_DOWN)\n",
    "arrival_box.send_keys(u'\\ue007')\n"
   ]
  },
  {
   "cell_type": "code",
   "execution_count": null,
   "metadata": {},
   "outputs": [],
   "source": [
    "#Get hour difference data\n",
    "\n",
    "hour_diff = driver.find_element_by_class_name('difference-stunden.text-center').text\n",
    "hour_diff"
   ]
  },
  {
   "cell_type": "code",
   "execution_count": null,
   "metadata": {},
   "outputs": [],
   "source": [
    "type(hour_diff)"
   ]
  },
  {
   "cell_type": "code",
   "execution_count": null,
   "metadata": {},
   "outputs": [],
   "source": [
    "hour_diff[1]"
   ]
  },
  {
   "cell_type": "code",
   "execution_count": null,
   "metadata": {},
   "outputs": [],
   "source": [
    "hour_diff = re.sub(r'[^-\\d]', '', hour_diff[0])\n",
    "hour_diff"
   ]
  },
  {
   "cell_type": "code",
   "execution_count": null,
   "metadata": {},
   "outputs": [],
   "source": [
    "#Click display forecast button\n",
    "display_button = driver.find_element_by_class_name(\"btn.btn-default.btn-sm\")\n",
    "\n",
    "display_button.click()"
   ]
  },
  {
   "cell_type": "code",
   "execution_count": null,
   "metadata": {},
   "outputs": [],
   "source": [
    "#Get the information of the weather in 7 days, and introduce it in a list\n",
    "table = driver.find_element_by_class_name('panel.panel-primary.article')\n",
    "\n",
    "rows = table.find_elements_by_tag_name('table')\n",
    "\n",
    "weather_raw = []\n",
    "for row in rows:\n",
    "    cells = row.find_elements_by_tag_name('td')\n",
    "    weather_raw.append(cells[1].text)\n",
    "\n",
    "print(weather_raw)"
   ]
  },
  {
   "cell_type": "code",
   "execution_count": null,
   "metadata": {},
   "outputs": [],
   "source": [
    "#Divide the list in a list of list, by days\n",
    "weather_raw_list = [[x] for x in weather_raw]\n",
    "print(weather_raw_list)"
   ]
  },
  {
   "cell_type": "code",
   "execution_count": null,
   "metadata": {},
   "outputs": [],
   "source": [
    "#Divide each sublist by the different weather features\n",
    "weather_raw_divided = [re.split('[,.]', y) for x in weather_raw_list for y in x]\n",
    "print(weather_raw_divided)"
   ]
  },
  {
   "cell_type": "code",
   "execution_count": null,
   "metadata": {},
   "outputs": [],
   "source": [
    "'''\n",
    "Function to order the data as we need and fill the empty data with 0. \n",
    "This will help when the data will be introduce in a dataset \n",
    "The data will be ordered as follows:\n",
    "1 - Forecast\n",
    "2 - High temperature\n",
    "3 - Low temperature\n",
    "4 - Probability of precipitation\n",
    "5 - Wind\n",
    "6 - Barometric pressure\n",
    "\n",
    "\n",
    "\n",
    "'''\n",
    "\n",
    "def reorder_func(day_weather_list):\n",
    "    reordered_weather = [day_weather_list[0], day_weather_list[1], day_weather_list[2]]\n",
    "    for i in range(2, len(day_weather_list)):\n",
    "        if 'precipitation' in day_weather_list[i]:\n",
    "            reordered_weather.append(day_weather_list[i])\n",
    "    if len(reordered_weather)< 4:\n",
    "        reordered_weather.append('0')\n",
    "\n",
    "    for i in range(2, len(day_weather_list)):\n",
    "        if 'wind' in day_weather_list[i]:\n",
    "            reordered_weather.append(day_weather_list[i])\n",
    "    if len(reordered_weather)< 5:\n",
    "        reordered_weather.append('0')\n",
    "\n",
    "    for i in range(2, len(day_weather_list)):\n",
    "        if 'pressure' in day_weather_list[i]:\n",
    "            reordered_weather.append(day_weather_list[i])\n",
    "    if len(reordered_weather)< 6:\n",
    "        reordered_weather.append('0')\n",
    "\n",
    "    return reordered_weather"
   ]
  },
  {
   "cell_type": "code",
   "execution_count": null,
   "metadata": {},
   "outputs": [],
   "source": [
    "ordered_weather =[]\n",
    "for x in weather_raw_divided:\n",
    "    sublist = reorder_func(x)\n",
    "    ordered_weather.append(sublist)\n",
    "print(ordered_weather)"
   ]
  },
  {
   "cell_type": "code",
   "execution_count": null,
   "metadata": {},
   "outputs": [],
   "source": [
    "#Introduce all the data in a dataset\n",
    "cols = ['Forecast', 'High temperature (ºC)', 'Low temperature (ºC)', \n",
    "        'Probability of precipitation (%)', 'Wind', 'Barometric pressure (mb)']\n",
    "weather_df = pd.DataFrame(ordered_weather, columns = cols)\n",
    "display(weather_df)"
   ]
  },
  {
   "cell_type": "code",
   "execution_count": null,
   "metadata": {},
   "outputs": [],
   "source": [
    "#Clean the data in Forecast\n",
    "def not_day(text):\n",
    "    short_text = ' '.join(text.split(' ')[:-1])\n",
    "    return short_text\n",
    "weather_df['Forecast'] = weather_df['Forecast'].apply(not_day)"
   ]
  },
  {
   "cell_type": "code",
   "execution_count": null,
   "metadata": {},
   "outputs": [],
   "source": [
    "#Clean High temperature, Low temperature, Probability of precipitation and Barometric pressure\n",
    "#Keeping only numbers\n",
    "def only_num(text):\n",
    "    result = (re.findall('\\d+', text))\n",
    "    return ''.join(result)\n",
    "\n",
    "weather_df['High temperature (ºC)'] = weather_df['High temperature (ºC)'].apply(only_num)\n",
    "weather_df['Low temperature (ºC)'] = weather_df['Low temperature (ºC)'].apply(only_num)\n",
    "weather_df['Probability of precipitation (%)'] = weather_df['Probability of precipitation (%)'].apply(only_num)\n",
    "weather_df['Barometric pressure (mb)'] = weather_df['Barometric pressure (mb)'].apply(only_num)\n",
    "display(weather_df)"
   ]
  }
 ],
 "metadata": {
  "kernelspec": {
   "display_name": "Python [conda env:ironhack_env]",
   "language": "python",
   "name": "conda-env-ironhack_env-py"
  },
  "language_info": {
   "codemirror_mode": {
    "name": "ipython",
    "version": 3
   },
   "file_extension": ".py",
   "mimetype": "text/x-python",
   "name": "python",
   "nbconvert_exporter": "python",
   "pygments_lexer": "ipython3",
   "version": "3.8.5"
  }
 },
 "nbformat": 4,
 "nbformat_minor": 4
}
