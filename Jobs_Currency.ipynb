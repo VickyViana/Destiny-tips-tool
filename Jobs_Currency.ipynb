{
 "cells": [
  {
   "cell_type": "markdown",
   "metadata": {},
   "source": [
    "# CURRENCY CALCULATION"
   ]
  },
  {
   "cell_type": "code",
   "execution_count": 184,
   "metadata": {},
   "outputs": [],
   "source": [
    "import requests\n",
    "from bs4 import BeautifulSoup\n",
    "import pandas as pd\n",
    "import re\n",
    "import numpy as np\n",
    "from selenium import webdriver\n",
    "from selenium.webdriver.common.keys import Keys\n",
    "from selenium.webdriver.common.by import By\n",
    "from selenium.webdriver.support.ui import WebDriverWait\n",
    "from selenium.webdriver.support import expected_conditions as EC"
   ]
  },
  {
   "cell_type": "markdown",
   "metadata": {},
   "source": [
    "## Destiny currency scraping\n"
   ]
  },
  {
   "cell_type": "markdown",
   "metadata": {},
   "source": [
    "The currency exchange between the departure country and the arrival country will be calculated from the web OANDA('https://www.xe.com/es/currencyconverter/'). The data will be scraped with selenium. From the web Currency-ISO (https://www.currency-iso.org/en/home/tables/table-a1.html) we will get downloaded an xls file with the currency ISO code of each country. We have downloaded it and save as .csv"
   ]
  },
  {
   "cell_type": "markdown",
   "metadata": {},
   "source": [
    "First of all, we will read the currency ISO codes. "
   ]
  },
  {
   "cell_type": "code",
   "execution_count": null,
   "metadata": {},
   "outputs": [],
   "source": [
    "#Read the currency.csv file\n",
    "\n",
    "currency = pd.read_csv('data/currency.csv')\n",
    "currency.head()"
   ]
  },
  {
   "cell_type": "code",
   "execution_count": null,
   "metadata": {},
   "outputs": [],
   "source": [
    "#The ENTITY (country) is given in capital letters, so we shoul change it to capitalize.\n",
    "\n",
    "def capit(x):\n",
    "    return x.title()\n",
    "\n",
    "currency['ENTITY'] = currency['ENTITY'].apply(capit)\n",
    "currency.head()"
   ]
  },
  {
   "cell_type": "code",
   "execution_count": null,
   "metadata": {},
   "outputs": [],
   "source": [
    "currency.to_csv('data/currency_table.csv',index=False)"
   ]
  },
  {
   "cell_type": "markdown",
   "metadata": {},
   "source": [
    "From the departure_airport_df and arrival_airport_df we get the country name, thus looking for that country in our currency.csv we can get the currency code"
   ]
  },
  {
   "cell_type": "code",
   "execution_count": 185,
   "metadata": {},
   "outputs": [],
   "source": [
    "#Example\n",
    "departure_country = 'Japan'\n",
    "arrival_country = 'Italy'"
   ]
  },
  {
   "cell_type": "code",
   "execution_count": null,
   "metadata": {},
   "outputs": [],
   "source": [
    "#Get currency code of each country\n",
    "departure_curr_df = currency.loc[currency['ENTITY'] == departure_country]\n",
    "departure_curr_code = departure_curr_df['Alphabetic Code'].values[0]\n",
    "print(f'Departure currency code is: {departure_curr_code}')\n",
    "\n",
    "arrival_curr_df = currency.loc[currency['ENTITY'] == arrival_country]\n",
    "arrival_curr_code = arrival_curr_df['Alphabetic Code'].values[0]\n",
    "arrival_curr_name = arrival_curr_df['Currency'].values[0]\n",
    "print(f'Arrival currency code is: {arrival_curr_code}')"
   ]
  },
  {
   "cell_type": "markdown",
   "metadata": {},
   "source": [
    "We should scrap the currency exchange web applying these codes\n"
   ]
  },
  {
   "cell_type": "code",
   "execution_count": 186,
   "metadata": {},
   "outputs": [],
   "source": [
    "departure_curr_code = 'JPY'\n",
    "arrival_curr_code = 'EUR'"
   ]
  },
  {
   "cell_type": "code",
   "execution_count": 187,
   "metadata": {},
   "outputs": [],
   "source": [
    "#Get driver\n",
    "driver = webdriver.Chrome('/home/viki/Bootcamp/drivers/chromedriver')\n",
    "driver.get('https://www.xe.com/es/currencyconverter/')"
   ]
  },
  {
   "cell_type": "code",
   "execution_count": 188,
   "metadata": {},
   "outputs": [],
   "source": [
    "#Close cookies\n",
    "cookies_button = driver.find_element_by_xpath(\"//button[@class='button__BaseButton-sc-1qpsalo-0 ctapkr']\")\n",
    "driver.execute_script(\"arguments[0].click();\", cookies_button)"
   ]
  },
  {
   "cell_type": "code",
   "execution_count": 189,
   "metadata": {},
   "outputs": [],
   "source": [
    "#Input departure currency code\n",
    "WebDriverWait(driver, 10).until(EC.element_to_be_clickable((By.ID, \"midmarketFromCurrency\")))\n",
    "first_box = driver.find_element_by_id('midmarketFromCurrency')\n",
    "first_box.send_keys(departure_curr_code)\n",
    "first_box.send_keys(Keys.ENTER)\n"
   ]
  },
  {
   "cell_type": "code",
   "execution_count": 190,
   "metadata": {},
   "outputs": [],
   "source": [
    "#Input arrival currency code\n",
    "second_box = driver.find_element_by_id('midmarketToCurrency')\n",
    "second_box.send_keys(arrival_curr_code)\n",
    "second_box.send_keys(Keys.ENTER)"
   ]
  },
  {
   "cell_type": "code",
   "execution_count": 191,
   "metadata": {},
   "outputs": [],
   "source": [
    "#Click on submit button\n",
    "submit_button = driver.find_element_by_xpath(\"//button[@type='submit']\")\n",
    "driver.execute_script(\"arguments[0].click();\", submit_button)"
   ]
  },
  {
   "cell_type": "code",
   "execution_count": 192,
   "metadata": {},
   "outputs": [
    {
     "data": {
      "text/plain": [
       "'1 EUR = 131,479 JPY'"
      ]
     },
     "execution_count": 192,
     "metadata": {},
     "output_type": "execute_result"
    }
   ],
   "source": [
    "#Take conversion rule\n",
    "WebDriverWait(driver, 10).until(EC.element_to_be_clickable((By.CLASS_NAME, \"unit-rates___StyledDiv-sc-1dk593y-0.dEqdnx\")))\n",
    "rule = driver.find_element_by_class_name(\"unit-rates___StyledDiv-sc-1dk593y-0.dEqdnx\").text\n",
    "rule"
   ]
  },
  {
   "cell_type": "code",
   "execution_count": 193,
   "metadata": {},
   "outputs": [
    {
     "name": "stdout",
     "output_type": "stream",
     "text": [
      "The currency in Italy is Euro\n",
      "And don't forget: 1 EUR = 131,479 JPY\n"
     ]
    }
   ],
   "source": [
    "#Print results\n",
    "print (f'The currency in {arrival_country} is {arrival_curr_name}')\n",
    "print(f\"And don't forget: {rule}\")\n"
   ]
  }
 ],
 "metadata": {
  "kernelspec": {
   "display_name": "Python [conda env:ironhack_env]",
   "language": "python",
   "name": "conda-env-ironhack_env-py"
  },
  "language_info": {
   "codemirror_mode": {
    "name": "ipython",
    "version": 3
   },
   "file_extension": ".py",
   "mimetype": "text/x-python",
   "name": "python",
   "nbconvert_exporter": "python",
   "pygments_lexer": "ipython3",
   "version": "3.8.5"
  }
 },
 "nbformat": 4,
 "nbformat_minor": 4
}
