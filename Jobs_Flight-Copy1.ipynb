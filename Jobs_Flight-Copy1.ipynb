{
 "cells": [
  {
   "cell_type": "markdown",
   "metadata": {},
   "source": [
    "# FLIGHTS INFORMATION CODE"
   ]
  },
  {
   "cell_type": "code",
   "execution_count": 200,
   "metadata": {},
   "outputs": [],
   "source": [
    "import requests\n",
    "from bs4 import BeautifulSoup\n",
    "import pandas as pd\n",
    "import re\n",
    "import numpy as np\n",
    "from selenium import webdriver\n",
    "from selenium.webdriver.common.keys import Keys\n",
    "from selenium.webdriver.support.ui import WebDriverWait\n",
    "from selenium.webdriver.support import expected_conditions as EC\n",
    "from selenium.webdriver.common.by import By"
   ]
  },
  {
   "cell_type": "markdown",
   "metadata": {},
   "source": [
    "## Flightradar24 scraping\n"
   ]
  },
  {
   "cell_type": "markdown",
   "metadata": {},
   "source": [
    "The data related to the flights requested is obtained from the web Flightradar24 ('https://www.flightradar24.com/'). We will use selenium to proceed to keep the data."
   ]
  },
  {
   "cell_type": "code",
   "execution_count": 201,
   "metadata": {},
   "outputs": [
    {
     "data": {
      "text/plain": [
       "'01 May 2021'"
      ]
     },
     "execution_count": 201,
     "metadata": {},
     "output_type": "execute_result"
    }
   ],
   "source": [
    "#Flightradar flight search route\n",
    "flight_web = 'https://www.flightradar24.com/data/flights'\n",
    "#Flight to be requested (example)\n",
    "flight = 'AZ1795'\n",
    "#Date of the flight defined\n",
    "day = '01'\n",
    "month = 'May'\n",
    "year = '2021'\n",
    "\n",
    "date_search = f'{day} {month[0:3]} {year}'\n",
    "date_search\n"
   ]
  },
  {
   "cell_type": "code",
   "execution_count": 202,
   "metadata": {},
   "outputs": [],
   "source": [
    "#Define the driver\n",
    "driver = webdriver.Chrome('/home/viki/Bootcamp/drivers/chromedriver')\n",
    "driver.get(flight_web)"
   ]
  },
  {
   "cell_type": "code",
   "execution_count": 203,
   "metadata": {},
   "outputs": [],
   "source": [
    "#Click cookies button\n",
    "cookies_button = driver.find_element_by_class_name(\"btn.btn-blue\")\n",
    "driver.execute_script(\"arguments[0].click();\", cookies_button)"
   ]
  },
  {
   "cell_type": "code",
   "execution_count": 204,
   "metadata": {},
   "outputs": [],
   "source": [
    "flight_box = driver.find_element_by_id('searchFlight')\n",
    "flight_box.send_keys(flight)\n",
    "WebDriverWait(driver, 10).until(EC.element_to_be_clickable((By.CLASS_NAME, \"tt-dataset-aircraftList\")))\n",
    "flight_selection = driver.find_element_by_class_name('tt-dataset-aircraftList').click()\n",
    "#flight_box = driver.find_element_by_id('searchFlight')\n",
    "#flight_box.send_keys(Keys.ENTER)\n",
    "                            "
   ]
  },
  {
   "cell_type": "code",
   "execution_count": 222,
   "metadata": {
    "scrolled": true
   },
   "outputs": [
    {
     "name": "stdout",
     "output_type": "stream",
     "text": [
      "['—\\n02 May 2021\\n-\\nScheduled\\nSTD\\n17:20\\nATD\\n—\\nSTA\\n18:25\\nFROM\\nRome (FCO)\\nTO\\nPalermo (PMO)', '', '', '', '', '', '', '', '', '', '', '', '', '', '—\\n01 May 2021\\n-\\nScheduled\\nSTD\\n17:20\\nATD\\n—\\nSTA\\n18:25\\nFROM\\nRome (FCO)\\nTO\\nPalermo (PMO)', '', '', '', '', '', '', '', '', '', '', '', '', '', '—\\n30 Apr 2021\\n-\\nScheduled\\nSTD\\n17:20\\nATD\\n—\\nSTA\\n18:25\\nFROM\\nRome (FCO)\\nTO\\nPalermo (PMO)', '', '', '', '', '', '', '', '', '', '', '', '', '', '—\\n29 Apr 2021\\n-\\nScheduled\\nSTD\\n17:20\\nATD\\n—\\nSTA\\n18:25\\nFROM\\nRome (FCO)\\nTO\\nPalermo (PMO)', '', '', '', '', '', '', '', '', '', '', '', '', '', '—\\n28 Apr 2021\\n-\\nScheduled\\nSTD\\n17:20\\nATD\\n—\\nSTA\\n18:25\\nFROM\\nRome (FCO)\\nTO\\nPalermo (PMO)', '', '', '', '', '', '', '', '', '', '', '', '', '', '—\\n27 Apr 2021\\n-\\nScheduled\\nSTD\\n17:20\\nATD\\n—\\nSTA\\n18:25\\nFROM\\nRome (FCO)\\nTO\\nPalermo (PMO)', '', '', '', '', '', '', '', '', '', '', '', '', '', '—\\n26 Apr 2021\\n-\\nScheduled\\nSTD\\n17:20\\nATD\\n—\\nSTA\\n18:25\\nFROM\\nRome (FCO)\\nTO\\nPalermo (PMO)', '', '', '', '', '', '', '', '', '', '', '', '', '', '—\\n25 Apr 2021\\n-\\nScheduled\\nSTD\\n17:20\\nATD\\n—\\nSTA\\n18:25\\nFROM\\nRome (FCO)\\nTO\\nPalermo (PMO)', '', '', '', '', '', '', '', '', '', '', '', '', '', '—\\n24 Apr 2021\\n-\\nEstimated departure 17:20\\nSTD\\n17:20\\nATD\\n—\\nSTA\\n18:25\\nFROM\\nRome (FCO)\\nTO\\nPalermo (PMO)', '', '', '', '', '', '', '', '', '', '', '', '', '', 'EI-DSX\\n23 Apr 2021\\n0:43\\nLanded 16:28\\nSTD\\n17:20\\nATD\\n17:46\\nSTA\\n18:25\\nFROM\\nRome (FCO)\\nTO\\nPalermo (PMO)', '', '', '', '', '', '', '', '', '', '', '', '', '', 'EI-DSX\\n22 Apr 2021\\n0:41\\nLanded 16:22\\nSTD\\n17:20\\nATD\\n17:41\\nSTA\\n18:25\\nFROM\\nRome (FCO)\\nTO\\nPalermo (PMO)', '', '', '', '', '', '', '', '', '', '', '', '', '', 'EI-DSV\\n21 Apr 2021\\n0:46\\nLanded 16:18\\nSTD\\n17:20\\nATD\\n17:32\\nSTA\\n18:25\\nFROM\\nRome (FCO)\\nTO\\nPalermo (PMO)', '', '', '', '', '', '', '', '', '', '', '', '', '', 'EI-DSG\\n20 Apr 2021\\n0:40\\nLanded 16:07\\nSTD\\n17:20\\nATD\\n17:27\\nSTA\\n18:25\\nFROM\\nRome (FCO)\\nTO\\nPalermo (PMO)', '', '', '', '', '', '', '', '', '', '', '', '', '', 'EI-DSY\\n19 Apr 2021\\n0:42\\nLanded 16:06\\nSTD\\n17:20\\nATD\\n17:24\\nSTA\\n18:25\\nFROM\\nRome (FCO)\\nTO\\nPalermo (PMO)', '', '', '', '', '', '', '', '', '', '', '', '', '', 'I-BIKC\\n18 Apr 2021\\n0:44\\nLanded 16:21\\nSTD\\n17:20\\nATD\\n17:37\\nSTA\\n18:25\\nFROM\\nRome (FCO)\\nTO\\nPalermo (PMO)', '', '', '', '', '', '', '', '', '', '', '', '', '', 'I-BIKD\\n17 Apr 2021\\n0:41\\nLanded 16:06\\nSTD\\n17:20\\nATD\\n17:25\\nSTA\\n18:25\\nFROM\\nRome (FCO)\\nTO\\nPalermo (PMO)', '', '', '', '', '', '', '', '', '', '', '', '', '']\n"
     ]
    }
   ],
   "source": [
    "table = driver.find_element_by_css_selector('tbody')\n",
    "rows = table.find_elements_by_class_name('data-row')\n",
    "flight_raw = []\n",
    "for row in rows:\n",
    "    cells = row.find_elements_by_tag_name('td')\n",
    "    for cell in cells:\n",
    "        flight_raw.append(str(cell.text))\n",
    "\n",
    "print(flight_raw)"
   ]
  },
  {
   "cell_type": "code",
   "execution_count": null,
   "metadata": {},
   "outputs": [],
   "source": [
    "flight_lists = [flight_raw[x:x+14] for x in range(0, len(flight_raw), 14)]\n",
    "print(flight_lists)"
   ]
  },
  {
   "cell_type": "code",
   "execution_count": null,
   "metadata": {},
   "outputs": [],
   "source": [
    "flight_df_raw = pd.DataFrame(flight_lists)\n",
    "display(flight_df_raw)"
   ]
  },
  {
   "cell_type": "code",
   "execution_count": null,
   "metadata": {},
   "outputs": [],
   "source": [
    "cols = ['Date', 'From', 'To', 'Aircraft', 'Flight Time', 'Scheduled Time Departure', \n",
    "        'Actual Time Departure', 'Scheduled Time Arrival', 'Status']\n",
    "flight_df_clean = flight_df_raw[[2,3,4,5,6,7,8,9,11]]\n",
    "flight_df_clean.columns = cols\n",
    "flight_df_clean"
   ]
  },
  {
   "cell_type": "code",
   "execution_count": null,
   "metadata": {},
   "outputs": [],
   "source": [
    "flight_df_clean[['Departure city', 'Departure code']] = flight_df_clean['From'].str.split('(',expand=True)\n",
    "flight_df_clean[['Arrival city', 'Arrival code']] = flight_df_clean['To'].str.split('(',expand=True)\n",
    "flight_df_clean"
   ]
  },
  {
   "cell_type": "code",
   "execution_count": null,
   "metadata": {},
   "outputs": [],
   "source": [
    "flight_df_clean['Departure code'] = flight_df_clean['Departure code'].map(lambda x: x.rstrip(')'))\n",
    "flight_df_clean['Arrival code'] = flight_df_clean['Arrival code'].map(lambda x: x.rstrip(')'))\n",
    "flight_df_clean"
   ]
  },
  {
   "cell_type": "code",
   "execution_count": null,
   "metadata": {},
   "outputs": [],
   "source": [
    "flight_df = flight_df_clean[['Date', 'Departure city', 'Departure code', 'Arrival city', 'Arrival code', \n",
    "                             'Aircraft', 'Flight Time', 'Scheduled Time Departure', 'Actual Time Departure', \n",
    "                             'Scheduled Time Arrival', 'Status']]\n",
    "flight_df"
   ]
  },
  {
   "cell_type": "markdown",
   "metadata": {},
   "source": [
    "## Airports information (dataframe)"
   ]
  },
  {
   "cell_type": "markdown",
   "metadata": {},
   "source": [
    "There are three different dataframes that contains airports information. Let's see the information that is contained in each one."
   ]
  },
  {
   "cell_type": "code",
   "execution_count": null,
   "metadata": {},
   "outputs": [],
   "source": [
    "    input_ele = driver.find_element_by_css_selector('input#autoCampusId');\n",
    "    input_ele.sendKeys(campus_name)\n",
    "\n",
    "    WebDriverWait(driver, 10).until(\n",
    "        EC.element_to_be_clickable((By.CSS_SELECTOR , \"div.ac_results li\"))\n",
    "\n",
    "    auto_suggest_list = driver.find_elements_by_css_selector('div.ac_results li')\n",
    "\n",
    "    for item in auto_suggest_list:\n",
    "\n",
    "        if(item.text.strip().upper() != campus_name.strip().upper()):\n",
    "            input_ele.sendKeys(Keys.DOWN)\n",
    "        else:\n",
    "            input_ele.sendKeys(Keys.ENTER)\n",
    "            break"
   ]
  },
  {
   "cell_type": "code",
   "execution_count": null,
   "metadata": {},
   "outputs": [],
   "source": [
    "airports = pd.read_csv('data/airports-extended.csv', header = None)\n",
    "airports"
   ]
  },
  {
   "cell_type": "code",
   "execution_count": null,
   "metadata": {},
   "outputs": [],
   "source": [
    "airports1 = pd.read_csv('data/airports (1).csv')\n",
    "airports1"
   ]
  },
  {
   "cell_type": "code",
   "execution_count": null,
   "metadata": {},
   "outputs": [],
   "source": [
    "world_airports = pd.read_csv('data/world-airports.csv')\n",
    "world_airports"
   ]
  },
  {
   "cell_type": "code",
   "execution_count": null,
   "metadata": {},
   "outputs": [],
   "source": [
    "world_airports.columns"
   ]
  },
  {
   "cell_type": "markdown",
   "metadata": {},
   "source": [
    "We will work with world_airports dataframe, as it is the one that have more information and better ordered."
   ]
  },
  {
   "cell_type": "code",
   "execution_count": null,
   "metadata": {},
   "outputs": [],
   "source": [
    "#Search of the city of departure\n",
    "departure_code = flight_df.loc['iataCode','departure']\n",
    "print(departure_code)"
   ]
  },
  {
   "cell_type": "code",
   "execution_count": null,
   "metadata": {
    "scrolled": true
   },
   "outputs": [],
   "source": [
    "#Location of the airport with that iata code in word_airports dataframe \n",
    "departure_airport = world_airports.loc[world_airports['iata_code'] == departure_code]\n",
    "departure_airport"
   ]
  },
  {
   "cell_type": "code",
   "execution_count": null,
   "metadata": {},
   "outputs": [],
   "source": [
    "departure_airport.columns"
   ]
  },
  {
   "cell_type": "code",
   "execution_count": null,
   "metadata": {},
   "outputs": [],
   "source": [
    "departure_city = departure_airport.loc[departure_airport.index[0] ,'municipality']\n",
    "#departure_city = departure_airport.iloc[0]['municipality']\n",
    "print(departure_city)"
   ]
  },
  {
   "cell_type": "code",
   "execution_count": null,
   "metadata": {},
   "outputs": [],
   "source": [
    "#Search of the city of arrival\n",
    "arrival_code = flight_df.loc['iataCode','arrival']\n",
    "print(arrival_code)"
   ]
  },
  {
   "cell_type": "code",
   "execution_count": null,
   "metadata": {},
   "outputs": [],
   "source": [
    "#Location of the airport with that iata code in word_airports dataframe \n",
    "arrival_airport = world_airports.loc[world_airports['iata_code'] == arrival_code]\n",
    "arrival_airport"
   ]
  }
 ],
 "metadata": {
  "kernelspec": {
   "display_name": "Python [conda env:ironhack_env]",
   "language": "python",
   "name": "conda-env-ironhack_env-py"
  },
  "language_info": {
   "codemirror_mode": {
    "name": "ipython",
    "version": 3
   },
   "file_extension": ".py",
   "mimetype": "text/x-python",
   "name": "python",
   "nbconvert_exporter": "python",
   "pygments_lexer": "ipython3",
   "version": "3.8.5"
  }
 },
 "nbformat": 4,
 "nbformat_minor": 4
}
