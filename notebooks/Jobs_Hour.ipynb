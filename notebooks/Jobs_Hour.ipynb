{
 "cells": [
  {
   "cell_type": "markdown",
   "metadata": {},
   "source": [
    "# TIME ZONE CODE"
   ]
  },
  {
   "cell_type": "code",
   "execution_count": 1,
   "metadata": {},
   "outputs": [],
   "source": [
    "import requests\n",
    "from bs4 import BeautifulSoup\n",
    "import pandas as pd\n",
    "import re\n",
    "import numpy as np\n",
    "import datetime\n",
    "from datetime import datetime\n",
    "from selenium import webdriver\n",
    "from selenium.webdriver.common.keys import Keys\n",
    "from selenium.webdriver.common.by import By\n",
    "from selenium.webdriver.support.ui import WebDriverWait\n",
    "from selenium.webdriver.support import expected_conditions as EC"
   ]
  },
  {
   "cell_type": "markdown",
   "metadata": {},
   "source": [
    "## Airports Time scraping\n"
   ]
  },
  {
   "cell_type": "markdown",
   "metadata": {},
   "source": [
    "The data of the time zone registred for each city is obtained from the web Prokerala ('https://www.prokerala.com/travel/timezones/time-converter.php'), where it could be given the time of departure city and arrival city. Then the difference between them will be calculated."
   ]
  },
  {
   "cell_type": "markdown",
   "metadata": {},
   "source": [
    "First of all, we will get the airports time zone data from the dataset world-airports-extended, from column 'Tz database time zone'"
   ]
  },
  {
   "cell_type": "code",
   "execution_count": 2,
   "metadata": {},
   "outputs": [],
   "source": [
    "#Example\n",
    "departure_timezone = 'Europe/Madrid' \n",
    "arrival_timezone = 'America/Anchorage'"
   ]
  },
  {
   "cell_type": "markdown",
   "metadata": {},
   "source": [
    "Afterwards, we need to do web scraping in Prokerala web to get the time in each city."
   ]
  },
  {
   "cell_type": "markdown",
   "metadata": {},
   "source": [
    "import os\n",
    "\n",
    "os.environ['PATH'] = f'{os.environ[\"PATH\"]}:{os.getcwd()}/drivers'\n",
    "    \n",
    "os.environ['PATH']"
   ]
  },
  {
   "cell_type": "code",
   "execution_count": 5,
   "metadata": {},
   "outputs": [],
   "source": [
    "driver = webdriver.Chrome('/home/viki/Bootcamp/drivers/chromedriver')\n",
    "driver.get('https://www.prokerala.com/travel/timezones/time-converter.php')"
   ]
  },
  {
   "cell_type": "code",
   "execution_count": 6,
   "metadata": {
    "scrolled": true
   },
   "outputs": [],
   "source": [
    "#Introduce time zones for the search\n",
    "departure_box = driver.find_element_by_id('loc1')\n",
    "departure_box.clear()\n",
    "departure_box.send_keys(departure_timezone)\n",
    "\n",
    "arrival_box = driver.find_element_by_id('loc2')\n",
    "arrival_box.send_keys(arrival_timezone)\n",
    "arrival_box.send_keys(Keys.ENTER)\n"
   ]
  },
  {
   "cell_type": "code",
   "execution_count": 7,
   "metadata": {},
   "outputs": [
    {
     "data": {
      "text/plain": [
       "'5/3/2021 11:44 AM'"
      ]
     },
     "execution_count": 7,
     "metadata": {},
     "output_type": "execute_result"
    }
   ],
   "source": [
    "#Get departure hour\n",
    "departure_hour = driver.find_element_by_id('time1')\n",
    "departure_h = departure_hour.get_attribute('value')\n",
    "departure_h"
   ]
  },
  {
   "cell_type": "code",
   "execution_count": 8,
   "metadata": {},
   "outputs": [
    {
     "data": {
      "text/plain": [
       "'5/3/2021 1:44 AM'"
      ]
     },
     "execution_count": 8,
     "metadata": {},
     "output_type": "execute_result"
    }
   ],
   "source": [
    "#Get arrival hour\n",
    "arrival_hour = driver.find_element_by_id('time2')\n",
    "arrival_h = arrival_hour.get_attribute('value')\n",
    "arrival_h"
   ]
  },
  {
   "cell_type": "code",
   "execution_count": 9,
   "metadata": {},
   "outputs": [
    {
     "data": {
      "text/plain": [
       "str"
      ]
     },
     "execution_count": 9,
     "metadata": {},
     "output_type": "execute_result"
    }
   ],
   "source": [
    "type(arrival_h)"
   ]
  },
  {
   "cell_type": "code",
   "execution_count": 10,
   "metadata": {},
   "outputs": [
    {
     "name": "stdout",
     "output_type": "stream",
     "text": [
      "2021-05-03 11:44:00\n",
      "2021-05-03 01:44:00\n",
      "10:00:00\n"
     ]
    }
   ],
   "source": [
    "#Transform departure_hour and arrival_hour to datetime format\n",
    "departure_hour = datetime.strptime(departure_h, \"%m/%d/%Y %I:%M %p\")\n",
    "arrival_hour = datetime.strptime(arrival_h, \"%m/%d/%Y %I:%M %p\")\n",
    "print(departure_hour)\n",
    "print(arrival_hour)\n",
    "print(departure_hour - arrival_hour)"
   ]
  },
  {
   "cell_type": "code",
   "execution_count": 11,
   "metadata": {},
   "outputs": [
    {
     "data": {
      "text/plain": [
       "10.0"
      ]
     },
     "execution_count": 11,
     "metadata": {},
     "output_type": "execute_result"
    }
   ],
   "source": [
    "diff = departure_hour - arrival_hour\n",
    "hour_diff = diff.total_seconds() / 60**2\n",
    "hour_diff"
   ]
  },
  {
   "cell_type": "code",
   "execution_count": 13,
   "metadata": {},
   "outputs": [
    {
     "name": "stdout",
     "output_type": "stream",
     "text": [
      "There are 10.0 hours of difference\n"
     ]
    }
   ],
   "source": [
    "#Print the result difference\n",
    "#print(\"There are %s:%s hours of difference\" % (diff.hour, diff.minute))\n",
    "print(f\"There are {hour_diff} hours of difference\")\n"
   ]
  },
  {
   "cell_type": "code",
   "execution_count": null,
   "metadata": {},
   "outputs": [],
   "source": []
  },
  {
   "cell_type": "code",
   "execution_count": null,
   "metadata": {},
   "outputs": [],
   "source": []
  }
 ],
 "metadata": {
  "kernelspec": {
   "display_name": "Python [conda env:ironhack_env]",
   "language": "python",
   "name": "conda-env-ironhack_env-py"
  },
  "language_info": {
   "codemirror_mode": {
    "name": "ipython",
    "version": 3
   },
   "file_extension": ".py",
   "mimetype": "text/x-python",
   "name": "python",
   "nbconvert_exporter": "python",
   "pygments_lexer": "ipython3",
   "version": "3.8.5"
  }
 },
 "nbformat": 4,
 "nbformat_minor": 4
}
