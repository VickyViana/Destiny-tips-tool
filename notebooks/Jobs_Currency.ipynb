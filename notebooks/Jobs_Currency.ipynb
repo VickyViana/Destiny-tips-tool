{
 "cells": [
  {
   "cell_type": "markdown",
   "metadata": {},
   "source": [
    "# CURRENCY CALCULATION"
   ]
  },
  {
   "cell_type": "code",
   "execution_count": 1,
   "metadata": {},
   "outputs": [],
   "source": [
    "import requests\n",
    "from bs4 import BeautifulSoup\n",
    "import pandas as pd\n",
    "import re\n",
    "import numpy as np\n",
    "from selenium import webdriver\n",
    "from selenium.webdriver.common.keys import Keys\n",
    "from selenium.webdriver.common.by import By\n",
    "from selenium.webdriver.support.ui import WebDriverWait\n",
    "from selenium.webdriver.support import expected_conditions as EC"
   ]
  },
  {
   "cell_type": "markdown",
   "metadata": {},
   "source": [
    "## Destiny currency scraping\n"
   ]
  },
  {
   "cell_type": "markdown",
   "metadata": {},
   "source": [
    "The currency exchange between the departure country and the arrival country will be calculated from the web XE ('https://www.xe.com/es/currencyconverter/'). The data will be scraped with selenium. As input we need the currency ISO codes from departure and arrival countries, that we can get from world-arports-extended.csv"
   ]
  },
  {
   "cell_type": "code",
   "execution_count": 17,
   "metadata": {},
   "outputs": [],
   "source": [
    "#Example --> Data extracted from airports df\n",
    "departure_country = 'Japan'\n",
    "arrival_country = 'Italy'\n",
    "departure_curr_code = 'JPY'\n",
    "arrival_curr_code = 'EUR'\n",
    "departure_curr_name= 'Yen'\n",
    "arrival_curr_name = 'Euro'"
   ]
  },
  {
   "cell_type": "code",
   "execution_count": 8,
   "metadata": {},
   "outputs": [],
   "source": [
    "#Get driver\n",
    "driver = webdriver.Chrome('/home/viki/Bootcamp/drivers/chromedriver')\n",
    "driver.get('https://www.xe.com/es/currencyconverter/')"
   ]
  },
  {
   "cell_type": "code",
   "execution_count": 9,
   "metadata": {},
   "outputs": [],
   "source": [
    "#Close cookies\n",
    "cookies_button = driver.find_element_by_xpath(\"//button[@class='button__BaseButton-sc-1qpsalo-0 ctapkr']\")\n",
    "driver.execute_script(\"arguments[0].click();\", cookies_button)"
   ]
  },
  {
   "cell_type": "code",
   "execution_count": 10,
   "metadata": {},
   "outputs": [],
   "source": [
    "#Input departure currency code\n",
    "WebDriverWait(driver, 10).until(EC.element_to_be_clickable((By.ID, \"midmarketFromCurrency\")))\n",
    "first_box = driver.find_element_by_id('midmarketFromCurrency')\n",
    "first_box.send_keys(departure_curr_code)\n",
    "first_box.send_keys(Keys.ENTER)\n"
   ]
  },
  {
   "cell_type": "code",
   "execution_count": 11,
   "metadata": {},
   "outputs": [],
   "source": [
    "#Input arrival currency code\n",
    "second_box = driver.find_element_by_id('midmarketToCurrency')\n",
    "second_box.send_keys(arrival_curr_code)\n",
    "second_box.send_keys(Keys.ENTER)"
   ]
  },
  {
   "cell_type": "code",
   "execution_count": 12,
   "metadata": {},
   "outputs": [],
   "source": [
    "#Click on submit button\n",
    "submit_button = driver.find_element_by_xpath(\"//button[@type='submit']\")\n",
    "driver.execute_script(\"arguments[0].click();\", submit_button)"
   ]
  },
  {
   "cell_type": "code",
   "execution_count": 13,
   "metadata": {},
   "outputs": [
    {
     "data": {
      "text/plain": [
       "'1 EUR = 131,916 JPY'"
      ]
     },
     "execution_count": 13,
     "metadata": {},
     "output_type": "execute_result"
    }
   ],
   "source": [
    "#Take conversion rule\n",
    "WebDriverWait(driver, 10).until(EC.element_to_be_clickable((By.CLASS_NAME, \"unit-rates___StyledDiv-sc-1dk593y-0.dEqdnx\")))\n",
    "rule = driver.find_element_by_class_name(\"unit-rates___StyledDiv-sc-1dk593y-0.dEqdnx\").text\n",
    "rule"
   ]
  },
  {
   "cell_type": "code",
   "execution_count": 18,
   "metadata": {},
   "outputs": [
    {
     "name": "stdout",
     "output_type": "stream",
     "text": [
      "The currency in Italy is Euro\n",
      "And don't forget: 1 EUR = 131,916 JPY\n"
     ]
    }
   ],
   "source": [
    "#Print results\n",
    "print (f'The currency in {arrival_country} is {arrival_curr_name}')\n",
    "print(f\"And don't forget: {rule}\")\n"
   ]
  }
 ],
 "metadata": {
  "kernelspec": {
   "display_name": "Python [conda env:ironhack_env]",
   "language": "python",
   "name": "conda-env-ironhack_env-py"
  },
  "language_info": {
   "codemirror_mode": {
    "name": "ipython",
    "version": 3
   },
   "file_extension": ".py",
   "mimetype": "text/x-python",
   "name": "python",
   "nbconvert_exporter": "python",
   "pygments_lexer": "ipython3",
   "version": "3.8.5"
  }
 },
 "nbformat": 4,
 "nbformat_minor": 4
}
